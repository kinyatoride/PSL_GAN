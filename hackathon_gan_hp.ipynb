{
 "cells": [
  {
   "cell_type": "code",
   "execution_count": 2,
   "metadata": {},
   "outputs": [
    {
     "data": {
      "text/plain": [
       "<torch._C.Generator at 0x7f73f8f7c6d0>"
      ]
     },
     "execution_count": 2,
     "metadata": {},
     "output_type": "execute_result"
    }
   ],
   "source": [
    "import numpy as np\n",
    "import pandas as pd\n",
    "\n",
    "import torch\n",
    "from torch import nn\n",
    "from torch.utils.data import TensorDataset, DataLoader\n",
    "import optuna\n",
    "torch.manual_seed(0)"
   ]
  },
  {
   "attachments": {},
   "cell_type": "markdown",
   "metadata": {},
   "source": [
    "# Prepare data"
   ]
  },
  {
   "cell_type": "code",
   "execution_count": 3,
   "metadata": {},
   "outputs": [],
   "source": [
    "df = pd.read_csv('data/Monthly_Average_1950_2009_reservoir.csv')"
   ]
  },
  {
   "cell_type": "code",
   "execution_count": 4,
   "metadata": {},
   "outputs": [],
   "source": [
    "batch_size = 32\n",
    "\n",
    "tensor_x = torch.Tensor(df.values) # transform to torch tensor\n",
    "dataset = TensorDataset(tensor_x) # create your datset\n",
    "dataloader = DataLoader(dataset, batch_size=batch_size, shuffle=True) # create your dataloader"
   ]
  },
  {
   "attachments": {},
   "cell_type": "markdown",
   "metadata": {},
   "source": [
    "# Define a network"
   ]
  },
  {
   "cell_type": "code",
   "execution_count": 5,
   "metadata": {},
   "outputs": [],
   "source": [
    "# linear, batch norm, relu block\n",
    "def get_generator_block(input_dim, output_dim):\n",
    "    return nn.Sequential(\n",
    "        nn.Linear(input_dim, output_dim),\n",
    "        nn.BatchNorm1d(output_dim),\n",
    "        nn.ReLU(inplace=True),\n",
    "    )"
   ]
  },
  {
   "cell_type": "code",
   "execution_count": 6,
   "metadata": {},
   "outputs": [],
   "source": [
    "class Generator(nn.Module):\n",
    "    '''\n",
    "    Generator Class\n",
    "    Values:\n",
    "        z_dim: the dimension of the noise vector, a scalar\n",
    "        im_dim: the dimension of the images, fitted for the dataset used, a scalar\n",
    "        hidden_dim: the inner dimension, a scalar\n",
    "    '''\n",
    "    def __init__(self, z_dim=2, im_dim=6, hidden_dim=8):\n",
    "        super().__init__()\n",
    "        self.gen = nn.Sequential(\n",
    "            get_generator_block(z_dim, hidden_dim),\n",
    "            get_generator_block(hidden_dim, hidden_dim * 2),\n",
    "            get_generator_block(hidden_dim * 2, hidden_dim * 4),\n",
    "            get_generator_block(hidden_dim * 4, hidden_dim * 8),\n",
    "            nn.Linear(hidden_dim * 8, im_dim),\n",
    "        )\n",
    "    def forward(self, noise):\n",
    "        return self.gen(noise)\n",
    "    \n",
    "    # Needed for grading\n",
    "    def get_gen(self):\n",
    "        '''\n",
    "        Returns:\n",
    "            the sequential model\n",
    "        '''\n",
    "        return self.gen"
   ]
  },
  {
   "cell_type": "code",
   "execution_count": 7,
   "metadata": {},
   "outputs": [],
   "source": [
    "def get_noise(n_samples, z_dim, device='cpu'):\n",
    "    '''\n",
    "    Function for creating noise vectors: Given the dimensions (n_samples, z_dim),\n",
    "    creates a tensor of that shape filled with random numbers from the normal distribution.\n",
    "    Parameters:\n",
    "        n_samples: the number of samples to generate, a scalar\n",
    "        z_dim: the dimension of the noise vector, a scalar\n",
    "        device: the device type\n",
    "    '''\n",
    "    return torch.randn(n_samples,z_dim,device=device)"
   ]
  },
  {
   "cell_type": "code",
   "execution_count": 8,
   "metadata": {},
   "outputs": [],
   "source": [
    "def get_discriminator_block(input_dim, output_dim):\n",
    "    return nn.Sequential(\n",
    "         nn.Linear(input_dim, output_dim),\n",
    "         nn.LeakyReLU(0.2, inplace=True)\n",
    "    )"
   ]
  },
  {
   "cell_type": "code",
   "execution_count": 9,
   "metadata": {},
   "outputs": [],
   "source": [
    "class Discriminator(nn.Module):\n",
    "    '''\n",
    "    Discriminator Class\n",
    "    Values:\n",
    "        im_dim: the dimension of the images, fitted for the dataset used, a scalar\n",
    "        hidden_dim: the inner dimension, a scalar\n",
    "    '''\n",
    "    def __init__(self, im_dim=6, hidden_dim=8):\n",
    "        super().__init__()\n",
    "        self.disc = nn.Sequential(\n",
    "            get_discriminator_block(im_dim, hidden_dim * 4),\n",
    "            get_discriminator_block(hidden_dim * 4, hidden_dim * 2),\n",
    "            get_discriminator_block(hidden_dim * 2, hidden_dim),\n",
    "            nn.Linear(hidden_dim, 1)\n",
    "        )\n",
    "\n",
    "    def forward(self, image):\n",
    "        return self.disc(image)\n",
    "    \n",
    "    # Needed for grading\n",
    "    def get_disc(self):\n",
    "        '''\n",
    "        Returns:\n",
    "            the sequential model\n",
    "        '''\n",
    "        return self.disc"
   ]
  },
  {
   "cell_type": "code",
   "execution_count": 10,
   "metadata": {},
   "outputs": [],
   "source": [
    "def get_disc_loss(gen, disc, criterion, real, num_images, z_dim, device):\n",
    "    '''\n",
    "    Return the loss of the discriminator given inputs.\n",
    "    Parameters:\n",
    "        gen: the generator model, which returns an image given z-dimensional noise\n",
    "        disc: the discriminator model, which returns a single-dimensional prediction of real/fake\n",
    "        criterion: the loss function, which should be used to compare \n",
    "               the discriminator's predictions to the ground truth reality of the images \n",
    "               (e.g. fake = 0, real = 1)\n",
    "        real: a batch of real images\n",
    "        num_images: the number of images the generator should produce, \n",
    "                which is also the length of the real images\n",
    "        z_dim: the dimension of the noise vector, a scalar\n",
    "        device: the device type\n",
    "    Returns:\n",
    "        disc_loss: a torch scalar loss value for the current batch\n",
    "    '''\n",
    "    fake_noise = get_noise(num_images, z_dim, device=device)\n",
    "    fake = gen(fake_noise)\n",
    "    disc_fake_pred = disc(fake.detach())\n",
    "    disc_fake_loss = criterion(disc_fake_pred, torch.zeros_like(disc_fake_pred))\n",
    "    disc_real_pred = disc(real)\n",
    "    disc_real_loss = criterion(disc_real_pred, torch.ones_like(disc_real_pred))\n",
    "    disc_loss = (disc_fake_loss + disc_real_loss) / 2\n",
    "    return disc_loss"
   ]
  },
  {
   "cell_type": "code",
   "execution_count": 11,
   "metadata": {},
   "outputs": [],
   "source": [
    "def get_gen_loss(gen, disc, criterion, num_images, z_dim, device):\n",
    "    '''\n",
    "    Return the loss of the generator given inputs.\n",
    "    Parameters:\n",
    "        gen: the generator model, which returns an image given z-dimensional noise\n",
    "        disc: the discriminator model, which returns a single-dimensional prediction of real/fake\n",
    "        criterion: the loss function, which should be used to compare \n",
    "               the discriminator's predictions to the ground truth reality of the images \n",
    "               (e.g. fake = 0, real = 1)\n",
    "        num_images: the number of images the generator should produce, \n",
    "                which is also the length of the real images\n",
    "        z_dim: the dimension of the noise vector, a scalar\n",
    "        device: the device type\n",
    "    Returns:\n",
    "        gen_loss: a torch scalar loss value for the current batch\n",
    "    '''\n",
    "    fake_noise = get_noise(num_images, z_dim, device=device)\n",
    "    fake = gen(fake_noise)\n",
    "    disc_fake_pred = disc(fake)\n",
    "    gen_loss = criterion(disc_fake_pred, torch.ones_like(disc_fake_pred))\n",
    "    return gen_loss"
   ]
  },
  {
   "attachments": {},
   "cell_type": "markdown",
   "metadata": {},
   "source": [
    "# Optimize"
   ]
  },
  {
   "cell_type": "code",
   "execution_count": 12,
   "metadata": {},
   "outputs": [],
   "source": [
    "# Set your parameters\n",
    "criterion = nn.BCEWithLogitsLoss()\n",
    "n_epochs = 200\n",
    "z_dim = 2\n",
    "display_step = 500\n",
    "\n",
    "# lr = 0.00001\n",
    "device = 'cpu'"
   ]
  },
  {
   "cell_type": "code",
   "execution_count": 13,
   "metadata": {},
   "outputs": [],
   "source": [
    "gen = Generator(z_dim).to(device)\n",
    "disc = Discriminator().to(device) \n",
    "test_generator = False # Whether the generator should be tested\n",
    "\n",
    "def objective(trial):\n",
    "    \n",
    "    # Generate the optimizers.\n",
    "    optimizer_name = trial.suggest_categorical(\"optimizer\", [\"Adam\", \"RMSprop\", \"SGD\"])\n",
    "    lr = trial.suggest_float(\"lr\", 1e-6, 1e-2, log=True)\n",
    "    gen_opt = getattr(torch.optim, optimizer_name)(gen.parameters(), lr=lr)\n",
    "    disc_opt = getattr(torch.optim, optimizer_name)(disc.parameters(), lr=lr)\n",
    "    \n",
    "    # Train the model\n",
    "    cur_step = 0\n",
    "    mean_generator_loss = 0\n",
    "    mean_discriminator_loss = 0\n",
    "    for epoch in range(n_epochs):\n",
    "        fake__ = []\n",
    "        real__ = []\n",
    "        for real in dataloader:\n",
    "            cur_batch_size = len(real[0])\n",
    "            real_ = real[0].to(device)        \n",
    "            \n",
    "            ### Update discriminator ###\n",
    "            # Zero out the gradients before backpropagation\n",
    "            disc_opt.zero_grad()\n",
    "\n",
    "            # Calculate discriminator loss\n",
    "            disc_loss = get_disc_loss(gen, disc, criterion, real_, cur_batch_size, z_dim, device)\n",
    "\n",
    "            # Update gradients\n",
    "            disc_loss.backward(retain_graph=True)\n",
    "\n",
    "            # Update optimizer\n",
    "            disc_opt.step()\n",
    "            \n",
    "            # For testing purposes, to keep track of the generator weights\n",
    "            if test_generator:\n",
    "                old_generator_weights = gen.gen[0][0].weight.detach().clone()\n",
    "\n",
    "            # Update generator\n",
    "            gen_opt.zero_grad()\n",
    "            gen_loss = get_gen_loss(gen, disc, criterion, cur_batch_size, z_dim, device)\n",
    "            gen_loss.backward()\n",
    "            gen_opt.step()\n",
    "\n",
    "            # For testing purposes, to check that your code changes the generator weights\n",
    "            if test_generator:\n",
    "                try:\n",
    "                    assert lr > 0.0000002 or (gen.gen[0][0].weight.grad.abs().max() < 0.0005 and epoch == 0)\n",
    "                    assert torch.any(gen.gen[0][0].weight.detach().clone() != old_generator_weights)\n",
    "                except:\n",
    "                    error = True\n",
    "                    print(\"Runtime tests have failed\")\n",
    "                    \n",
    "            # Keep track of the average discriminator loss\n",
    "            mean_discriminator_loss += disc_loss.item() / display_step\n",
    "\n",
    "            # Keep track of the average generator loss\n",
    "            mean_generator_loss += gen_loss.item() / display_step\n",
    "            real__.append(real_.cpu().detach().numpy())\n",
    "            fake_noise = get_noise(cur_batch_size, z_dim, device=device)\n",
    "            fake__.append(gen(fake_noise).cpu().detach().numpy())\n",
    "            \n",
    "            ### Visualization code ###\n",
    "            if cur_step % display_step == 0 and cur_step > 0:\n",
    "                print(f\"Step {cur_step}: Generator loss: {mean_generator_loss}, discriminator loss: {mean_discriminator_loss}\")\n",
    "                fake_noise = get_noise(cur_batch_size, z_dim, device=device)\n",
    "                fake = gen(fake_noise)\n",
    "                # show_tensor_images(fake)\n",
    "                # show_tensor_images(real)\n",
    "                mean_generator_loss = 0\n",
    "                mean_discriminator_loss = 0\n",
    "            cur_step += 1\n",
    "\n",
    "        # Evaluate the model\n",
    "        fake_noise = get_noise(720, z_dim, device=device)\n",
    "        fake = gen(fake_noise).cpu().detach().numpy()\n",
    "        real = df.values\n",
    "        \n",
    "        # mean error (%)\n",
    "        mean_error = (fake.mean(axis=0) - real.mean(axis=0)) / real.mean(axis=0) * 100\n",
    "        mean_mape = np.abs(mean_error).mean()\n",
    "        \n",
    "        # Calculate empirical CDFs\n",
    "        bins = np.linspace(0, 15, 61)   # Maximum 15 mm for now\n",
    "        binsize = bins[1:] - bins[:-1]\n",
    "\n",
    "        real_hist = np.apply_along_axis(lambda a: np.histogram(a, bins=bins, density=True)[0], 0, real)\n",
    "        real_ecdf = np.cumsum(real_hist, axis=0) * binsize[:, np.newaxis]\n",
    "\n",
    "        fake_hist = np.apply_along_axis(lambda a: np.histogram(a, bins=bins, density=True)[0], 0, fake)\n",
    "        fake_ecdf = np.cumsum(fake_hist, axis=0) * binsize[:, np.newaxis]\n",
    "\n",
    "        # Continuous ranked probability score (CRPS)\n",
    "        crps = np.sum(np.abs((real_ecdf - fake_ecdf) * binsize[:, np.newaxis]), axis=0)\n",
    "        crps_mean = crps.mean()\n",
    "                          \n",
    "    return crps_mean"
   ]
  },
  {
   "cell_type": "code",
   "execution_count": 14,
   "metadata": {},
   "outputs": [
    {
     "name": "stderr",
     "output_type": "stream",
     "text": [
      "\u001b[32m[I 2023-03-01 11:58:18,587]\u001b[0m A new study created in memory with name: no-name-7c0b0c55-e0e4-4b1c-9016-7bcdc7a966ec\u001b[0m\n"
     ]
    },
    {
     "name": "stdout",
     "output_type": "stream",
     "text": [
      "Step 500: Generator loss: 0.7991444392204292, discriminator loss: 0.6456567057371135\n",
      "Step 1000: Generator loss: 0.7593058142662048, discriminator loss: 0.5707634758949282\n",
      "Step 1500: Generator loss: 0.6869591773748396, discriminator loss: 0.5444986629486083\n",
      "Step 2000: Generator loss: 0.617787445425987, discriminator loss: 0.565177122950554\n",
      "Step 2500: Generator loss: 0.594676935791969, discriminator loss: 0.5939955794811244\n",
      "Step 3000: Generator loss: 0.6003148006200794, discriminator loss: 0.6201934701204301\n",
      "Step 3500: Generator loss: 0.6137431548833846, discriminator loss: 0.6437540477514269\n",
      "Step 4000: Generator loss: 0.6350214660167693, discriminator loss: 0.6603099629878997\n",
      "Step 4500: Generator loss: 0.6651565856933592, discriminator loss: 0.6754032688140874\n"
     ]
    },
    {
     "name": "stderr",
     "output_type": "stream",
     "text": [
      "\u001b[32m[I 2023-03-01 11:58:41,695]\u001b[0m Trial 0 finished with value: 0.8307870370370388 and parameters: {'optimizer': 'Adam', 'lr': 1.7636164219259476e-05}. Best is trial 0 with value: 0.8307870370370388.\u001b[0m\n"
     ]
    },
    {
     "name": "stdout",
     "output_type": "stream",
     "text": [
      "Step 500: Generator loss: 0.694727243304252, discriminator loss: 0.6873603744506825\n",
      "Step 1000: Generator loss: 0.6967823829650871, discriminator loss: 0.6892094235420234\n",
      "Step 1500: Generator loss: 0.7016329618692396, discriminator loss: 0.69172635936737\n",
      "Step 2000: Generator loss: 0.7077283507585523, discriminator loss: 0.6936779215335852\n",
      "Step 2500: Generator loss: 0.7145060927867894, discriminator loss: 0.6944568610191337\n",
      "Step 3000: Generator loss: 0.7136772755384442, discriminator loss: 0.6953558348417288\n",
      "Step 3500: Generator loss: 0.714115687012672, discriminator loss: 0.696205531358719\n",
      "Step 4000: Generator loss: 0.7192076514959338, discriminator loss: 0.6967317454814909\n",
      "Step 4500: Generator loss: 0.7210209337472916, discriminator loss: 0.6971840173006056\n"
     ]
    },
    {
     "name": "stderr",
     "output_type": "stream",
     "text": [
      "\u001b[32m[I 2023-03-01 11:59:00,186]\u001b[0m Trial 1 finished with value: 0.8909143518518544 and parameters: {'optimizer': 'SGD', 'lr': 0.00037779878181280074}. Best is trial 0 with value: 0.8307870370370388.\u001b[0m\n"
     ]
    },
    {
     "name": "stdout",
     "output_type": "stream",
     "text": [
      "Step 500: Generator loss: 0.7670457631349562, discriminator loss: 0.7044006778001785\n",
      "Step 1000: Generator loss: 0.8017038335800178, discriminator loss: 0.6971723412275315\n",
      "Step 1500: Generator loss: 0.7301531696319588, discriminator loss: 0.6939190485477448\n",
      "Step 2000: Generator loss: 0.7030692442655561, discriminator loss: 0.6933274445533759\n",
      "Step 2500: Generator loss: 0.6957517606019975, discriminator loss: 0.693159306645394\n",
      "Step 3000: Generator loss: 0.6981339417696003, discriminator loss: 0.6934807522296907\n",
      "Step 3500: Generator loss: 0.6967850993871688, discriminator loss: 0.6939229289293289\n",
      "Step 4000: Generator loss: 0.6921789439916611, discriminator loss: 0.6932142763137812\n",
      "Step 4500: Generator loss: 0.695092509746551, discriminator loss: 0.69377520930767\n"
     ]
    },
    {
     "name": "stderr",
     "output_type": "stream",
     "text": [
      "\u001b[32m[I 2023-03-01 11:59:21,853]\u001b[0m Trial 2 finished with value: 0.7510582031357478 and parameters: {'optimizer': 'Adam', 'lr': 6.375358917290476e-05}. Best is trial 2 with value: 0.7510582031357478.\u001b[0m\n"
     ]
    }
   ],
   "source": [
    "study = optuna.create_study()\n",
    "study.optimize(objective, n_trials=3)"
   ]
  },
  {
   "attachments": {},
   "cell_type": "markdown",
   "metadata": {},
   "source": [
    "# Check results"
   ]
  },
  {
   "cell_type": "code",
   "execution_count": 16,
   "metadata": {},
   "outputs": [
    {
     "name": "stdout",
     "output_type": "stream",
     "text": [
      "Study statistics: \n",
      "  Number of finished trials:  3\n",
      "  Number of pruned trials:  0\n",
      "  Number of complete trials:  3\n",
      "Best trial:\n",
      "  Value:  0.7510582031357478\n",
      "  Params: \n",
      "    optimizer: Adam\n",
      "    lr: 6.375358917290476e-05\n"
     ]
    }
   ],
   "source": [
    "pruned_trials = study.get_trials(deepcopy=False, states=[optuna.trial.TrialState.PRUNED])\n",
    "complete_trials = study.get_trials(deepcopy=False, states=[optuna.trial.TrialState.COMPLETE])\n",
    "\n",
    "print(\"Study statistics: \")\n",
    "print(\"  Number of finished trials: \", len(study.trials))\n",
    "print(\"  Number of pruned trials: \", len(pruned_trials))\n",
    "print(\"  Number of complete trials: \", len(complete_trials))\n",
    "\n",
    "print(\"Best trial:\")\n",
    "trial = study.best_trial\n",
    "\n",
    "print(\"  Value: \", trial.value)\n",
    "\n",
    "print(\"  Params: \")\n",
    "for key, value in trial.params.items():\n",
    "    print(\"    {}: {}\".format(key, value))"
   ]
  },
  {
   "cell_type": "code",
   "execution_count": null,
   "metadata": {},
   "outputs": [],
   "source": []
  }
 ],
 "metadata": {
  "kernelspec": {
   "display_name": "torch",
   "language": "python",
   "name": "python3"
  },
  "language_info": {
   "codemirror_mode": {
    "name": "ipython",
    "version": 3
   },
   "file_extension": ".py",
   "mimetype": "text/x-python",
   "name": "python",
   "nbconvert_exporter": "python",
   "pygments_lexer": "ipython3",
   "version": "3.10.8 (main, Nov 24 2022, 14:13:03) [GCC 11.2.0]"
  },
  "orig_nbformat": 4,
  "vscode": {
   "interpreter": {
    "hash": "d1d84c5f09dced2d3bc3b960c589ae7c4ab07c6fb483c0521608a53d1fbc25f0"
   }
  }
 },
 "nbformat": 4,
 "nbformat_minor": 2
}
